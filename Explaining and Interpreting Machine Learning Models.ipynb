{
 "cells": [
  {
   "cell_type": "markdown",
   "id": "0b3ab2b2",
   "metadata": {
    "slideshow": {
     "slide_type": "slide"
    }
   },
   "source": [
    "# Explaining and Interpreting Machine Learning Models\n",
    "\n",
    "<a rel=\"license\" href=\"http://creativecommons.org/licenses/by-sa/4.0/\"><img alt=\"Creative Commons License\" align=\"left\" src=\"https://i.creativecommons.org/l/by-sa/4.0/80x15.png\" /></a>&nbsp;| Dennis G. Wilson | <a href=\"https://github.com/d9w/interpretable_ml.git\">https://github.com/d9w/interpretable_ml.git</a>"
   ]
  },
  {
   "cell_type": "markdown",
   "id": "31c7dbd9",
   "metadata": {
    "slideshow": {
     "slide_type": "slide"
    }
   },
   "source": [
    "As machine learning models are used in more and more applications, explaining their functionality and their outputs becomes crucial. In critical applications like health and transportation, where an incorrect decision by an ML model can lead to serious consequences for people, understanding ML models is a must."
   ]
  },
  {
   "cell_type": "markdown",
   "id": "049b637d",
   "metadata": {
    "slideshow": {
     "slide_type": "subslide"
    }
   },
   "source": [
    "In this class, we'll look at understanding ML models used to predict heart disease."
   ]
  },
  {
   "cell_type": "markdown",
   "id": "3843ef1a",
   "metadata": {
    "slideshow": {
     "slide_type": "slide"
    }
   },
   "source": [
    "There are multiple ways to understand a model, which are not mutually exclusive. We can **explain** data, the data features, the model's internals, and the model's predictions. Explainations use statistical measures to study different cases, ie, in 80% of cases, the model predicts X when a data feature has Y. We can also **interpret** the model, looking inside the model to see how it makes predictions."
   ]
  },
  {
   "cell_type": "markdown",
   "id": "87b50fd3",
   "metadata": {
    "slideshow": {
     "slide_type": "slide"
    }
   },
   "source": [
    "<img src=\"https://d9w.github.io/interpretable_control/img/explaining.png\">\n",
    "\n",
    "Zhou, Ryan, and Ting Hu. \"Evolutionary approaches to explainable machine learning.\" arXiv preprint arXiv:2306.14786 (2023).\n",
    "https://arxiv.org/pdf/2306.14786"
   ]
  },
  {
   "cell_type": "markdown",
   "id": "09c61814",
   "metadata": {
    "slideshow": {
     "slide_type": "slide"
    }
   },
   "source": [
    "An explainable model is a function that is too complicated for a human to understand. Another name for this is a black-box model. We need an additional method/technique to be able to peer into the black-box and understand how the model works."
   ]
  },
  {
   "cell_type": "markdown",
   "id": "dc32e703",
   "metadata": {
    "slideshow": {
     "slide_type": "slide"
    }
   },
   "source": [
    "An interpretable model is one that can be understood by a human. However, as this is a subjective definition, the interpretability of a model is subject to opinion. One model is considered more interpretable than another if it is easier for a human to understand how it makes predictions than the other model."
   ]
  },
  {
   "cell_type": "markdown",
   "id": "fdb01298",
   "metadata": {
    "slideshow": {
     "slide_type": "slide"
    }
   },
   "source": [
    "<img src=\"https://miro.medium.com/v2/resize:fit:4800/format:webp/1*6-QWLr9obdDlUmVLtDXPrQ.png\">\n",
    "\n",
    "https://towardsdatascience.com/interperable-vs-explainable-machine-learning-1fa525e12f48"
   ]
  },
  {
   "cell_type": "markdown",
   "id": "cf565c83",
   "metadata": {
    "slideshow": {
     "slide_type": "slide"
    }
   },
   "source": [
    "# Explaining Data"
   ]
  },
  {
   "cell_type": "markdown",
   "id": "bc7335dc",
   "metadata": {
    "slideshow": {
     "slide_type": "slide"
    }
   },
   "source": [
    "The first step to explaining data is to understand the source of the data. How was this information gathered? How is it organized? What are possible biases in the way in which it was gathered? "
   ]
  },
  {
   "cell_type": "markdown",
   "id": "a8a6e312",
   "metadata": {
    "slideshow": {
     "slide_type": "subslide"
    }
   },
   "source": [
    "The data we're looking at comes from phone surveys conducted by the [CDC](https://www.cdc.gov/brfss/annual_data/annual_2022.html) about people's health. The CDC website has more information on how this [Behavioral Risk Factor Surveillance System (BRFSS)](https://www.cdc.gov/brfss/annual_data/2022/pdf/Overview_2022-508.pdf) was conducted. We will look at predicting the `_MICHD` feature, which tracks if a surveyed person has had heart attack or diagnosed heart disease."
   ]
  },
  {
   "cell_type": "code",
   "execution_count": null,
   "id": "bf8606c8",
   "metadata": {
    "slideshow": {
     "slide_type": "slide"
    }
   },
   "outputs": [],
   "source": [
    "from pathlib import Path\n",
    "import numpy as np\n",
    "import pandas as pd\n",
    "import seaborn as sns\n",
    "import matplotlib.pyplot as plt\n",
    "import matplotlib.patches as mpatches\n",
    "np.seterr(divide='ignore', invalid='ignore');"
   ]
  },
  {
   "cell_type": "code",
   "execution_count": null,
   "id": "a7dc0ad2",
   "metadata": {
    "slideshow": {
     "slide_type": "slide"
    }
   },
   "outputs": [],
   "source": [
    "DATA_PATH = Path('data/')\n",
    "RAW_DATA_PATH = DATA_PATH / 'raw'\n",
    "RAW_FILE_PATH = RAW_DATA_PATH / 'LLCP2022.XPT'\n",
    "PROCESSED_DATA_PATH = DATA_PATH / 'processed'\n",
    "DATA_FILE = PROCESSED_DATA_PATH / 'data.csv'"
   ]
  },
  {
   "cell_type": "code",
   "execution_count": null,
   "id": "cd5f3477",
   "metadata": {
    "slideshow": {
     "slide_type": "subslide"
    }
   },
   "outputs": [],
   "source": [
    "heart_df = pd.read_sas(RAW_FILE_PATH, encoding='utf-8')\n",
    "heart_df.info()"
   ]
  },
  {
   "cell_type": "code",
   "execution_count": null,
   "id": "63c7a1c8",
   "metadata": {
    "slideshow": {
     "slide_type": "slide"
    }
   },
   "outputs": [],
   "source": [
    "heart_df['ID'] = np.arange(len(heart_df))\n",
    "heart_df.describe()"
   ]
  },
  {
   "cell_type": "code",
   "execution_count": null,
   "id": "730c9b8c",
   "metadata": {
    "slideshow": {
     "slide_type": "slide"
    }
   },
   "outputs": [],
   "source": [
    "var_list = {'ID': 'ID', 'SEXVAR': 'Sex', 'GENHLTH': 'GeneralHealth', '_STATE': 'State', \n",
    "            'PHYSHLTH': 'PhysicalHealth', 'MENTHLTH': 'MentalHealth', 'CHECKUP1': 'LastCheckup',\n",
    "            'EXERANY2': 'Exercise', 'SLEPTIM1': 'Sleep', 'RMVTETH4': 'TeethRemoved', 'CVDSTRK3': 'Stroke',\n",
    "            'ASTHMA3': 'Asthma', 'CHCSCNC1': 'SkinCancer', 'CHCCOPD3': 'LungDisease',\n",
    "            'ADDEPEV3': 'Depression', 'CHCKDNY2': 'KidneyDisease', 'HAVARTH4': 'Arthritis',\n",
    "            'DIABETE4': 'Diabetes', 'DEAF': 'Deaf', 'BLIND': 'Blind', 'DECIDE': 'DifficultyDeciding',\n",
    "            'DIFFWALK': 'DifficultyWalking', 'DIFFDRES': 'DifficultyDressing', 'DIFFALON': 'DifficultyAlone',\n",
    "            '_SMOKER3': 'Smoker', 'ECIGNOW2': 'ECigUser', '_AGEG5YR': 'Age', 'HTM4': 'Height',\n",
    "            'WTKG3': 'Weight', '_BMI5': 'BMI', 'DRNKANY6': 'Alcohol', '_AIDTST4': 'HIVTest', 'FLUSHOT7': 'FluShot',\n",
    "            'PNEUVAC4': 'Pneumonia', 'TETANUS1': 'Tetanus', 'HIVRISK5': 'HIVRisk', 'COVIDPOS': 'COVID',\n",
    "            '_MICHD': 'HeartDisease'}"
   ]
  },
  {
   "cell_type": "code",
   "execution_count": null,
   "id": "da108ef7",
   "metadata": {
    "slideshow": {
     "slide_type": "slide"
    }
   },
   "outputs": [],
   "source": [
    "df = heart_df[np.array(var_list.keys())]\n",
    "dfpos = df[df['_MICHD'] == 1][:20000]\n",
    "dfneg = df[df['_MICHD'] == 2][:20000]\n",
    "df = pd.concat([dfpos, dfneg])\n",
    "df = df.rename(columns=var_list)\n",
    "df.describe()"
   ]
  },
  {
   "cell_type": "code",
   "execution_count": null,
   "id": "2fee6318",
   "metadata": {
    "scrolled": true,
    "slideshow": {
     "slide_type": "slide"
    }
   },
   "outputs": [],
   "source": [
    "for c in df.columns:\n",
    "    if df[c].max() == 99:\n",
    "        df.loc[df[c] == 99, c] = -1\n",
    "    if df[c].max() == 88:\n",
    "        df.loc[df[c] == 88, c] = 0\n",
    "    if df[c].max() == 77:\n",
    "        df.loc[df[c] == 77, c] = -1\n",
    "    if df[c].max() == 9:\n",
    "        df.loc[df[c] == 9, c] = -1\n",
    "    if df[c].max() == 7:\n",
    "        df.loc[df[c] == 7, c] = -1\n",
    "df = df.replace(-1, np.nan)\n",
    "df = df.dropna()\n",
    "df['HeartDisease'] = df['HeartDisease'].replace([1, 2], [1, 0])\n",
    "df = df.sample(frac=1, random_state=1234)\n",
    "df['ID'] = np.arange(len(df))\n",
    "df.describe()"
   ]
  },
  {
   "cell_type": "code",
   "execution_count": null,
   "id": "f5025a89",
   "metadata": {
    "slideshow": {
     "slide_type": "slide"
    }
   },
   "outputs": [],
   "source": [
    "df.to_csv(DATA_FILE, index=False)\n",
    "#df = pd.read_csv(DATA_FILE)"
   ]
  },
  {
   "cell_type": "markdown",
   "id": "ca4843aa",
   "metadata": {
    "slideshow": {
     "slide_type": "slide"
    }
   },
   "source": [
    "## Visualization: General Health"
   ]
  },
  {
   "cell_type": "code",
   "execution_count": null,
   "id": "44946354",
   "metadata": {
    "hideCode": true,
    "slideshow": {
     "slide_type": "slide"
    }
   },
   "outputs": [],
   "source": [
    "df_pie = df[['GeneralHealth', 'HeartDisease']].copy()\n",
    "df_pie['GeneralHealth'] = df_pie['GeneralHealth'].replace([1, 2, 3, 4, 5],\n",
    "                                ['Excellent', 'Very good', 'Good', 'Fair', 'Poor'])\n",
    "grouped_data = df_pie.groupby(['GeneralHealth', 'HeartDisease']).size().unstack(fill_value=0)\n",
    "\n",
    "# Converting the grouped data to proportions for the pie chart\n",
    "pie_data = grouped_data.stack().reset_index(name='Count')\n",
    "pie_data['Percentage'] = pie_data['Count'] / pie_data.groupby('GeneralHealth')['Count'].transform('sum') * 100\n",
    "\n",
    "# Creating more concise labels\n",
    "health_order = ['Excellent', 'Very good', 'Good', 'Fair', 'Poor']\n",
    "pie_data['Label'] = pie_data.apply(lambda row: f\"{row['GeneralHealth']} ({'+' if row['HeartDisease'] == 1 else '-'}) {row['Percentage']:.1f}%\", axis=1)\n",
    "pie_data['GeneralHealth'] = pd.Categorical(pie_data['GeneralHealth'], categories=health_order, ordered=True)\n",
    "\n",
    "# Sorting the data\n",
    "pie_data = pie_data.sort_values(by=['GeneralHealth', 'HeartDisease'], ascending=[True, True])\n",
    "\n",
    "# Custom colors for Target == False and Target == True\n",
    "colors_false = {'Excellent': '#98DF8A', 'Very good': '#FFFF99', 'Good': '#FFD92F',\n",
    "                'Fair': '#FFBB78', 'Poor': '#FF9896'}\n",
    "colors_true = {'Excellent': '#2CA02C', 'Very good': '#FFFF33', 'Good': '#E6AB02',\n",
    "               'Fair': '#FF7F0E', 'Poor': '#D62728'}\n",
    "\n",
    "# Applying the appropriate color based on Target\n",
    "pie_data['Color'] = pie_data.apply(lambda row: colors_true[row['GeneralHealth']]\n",
    "                                   if row['HeartDisease'] == 1\n",
    "                                   else colors_false[row['GeneralHealth']], axis=1)\n",
    "\n",
    "# Plotting the pie chart with the color scheme, exploded view\n",
    "#explode_values = (0.05, 0.15, 0.05, 0.15, 0.05, 0.15, 0.05, 0.06, 0.05, 0.1)\n",
    "explode_values = 0.05 * np.ones(len(pie_data['Label']))\n",
    "# Creating custom legend\n",
    "legend_elements = [mpatches.Patch(color='#E6AB02', label='Heart Disease is True when (+)'),\n",
    "                   mpatches.Patch(color='#FFD92F', label='Heart Disease is False when (-)')]\n",
    "\n",
    "plt.figure(figsize=(12, 12))\n",
    "plt.pie(pie_data['Count'], labels=pie_data['Label'], autopct='%1.1f%%',\n",
    "        startangle=90, colors=pie_data['Color'], explode=explode_values)\n",
    "plt.title('Heart Disease Distribution by General Health', fontsize=16)\n",
    "plt.legend(handles=legend_elements, loc='lower right')\n",
    "plt.show();"
   ]
  },
  {
   "cell_type": "markdown",
   "id": "4b9563ba",
   "metadata": {
    "slideshow": {
     "slide_type": "slide"
    }
   },
   "source": [
    "## Visualization: Age and Sex"
   ]
  },
  {
   "cell_type": "code",
   "execution_count": null,
   "id": "62f1e41d",
   "metadata": {
    "hideCode": true,
    "slideshow": {
     "slide_type": "slide"
    }
   },
   "outputs": [],
   "source": [
    "# Prepare the data\n",
    "grouped_data = df.groupby(['Sex', 'Age', 'HeartDisease']).size().unstack().reset_index()\n",
    "grouped_data['Total'] = grouped_data[0] + grouped_data[1]\n",
    "grouped_data['Sex'] = grouped_data['Sex'].replace([1, 2], ['Male', 'Female'])\n",
    "grouped_data = grouped_data[grouped_data.Age != 14]\n",
    "grouped_data['Age'] = grouped_data['Age'].replace([1, 2, 3, 4, 5, 6, 7, 8, 9, 10, 11, 12, 13],\n",
    "['Age 18 to 24', 'Age 25 to 29', 'Age 30 to 34', 'Age 35 to 39', 'Age 40 to 44', 'Age 45 to 49',\n",
    " 'Age 50 to 54', 'Age 55 to 59', 'Age 60 to 64', 'Age 65 to 69', 'Age 70 to 74', 'Age 75 to 79', 'Age 80 or older'])\n",
    "\n",
    "# Separate data for males and females\n",
    "male_data = grouped_data[grouped_data['Sex'] == 'Male']\n",
    "female_data = grouped_data[grouped_data['Sex'] == 'Female']\n",
    "\n",
    "# Set the figure\n",
    "fig, ax = plt.subplots(1, 1, figsize=(17, 8))\n",
    "ax.barh(male_data['Age'], male_data[1], color='#1f77b4', alpha=0.8, label='Male: Heart Disease Yes')\n",
    "ax.barh(female_data['Age'], -female_data[1], color='#ff7f0e', alpha=0.8, label='Female: Heart Disease Yes')\n",
    "\n",
    "# Annotations and customization\n",
    "for i in male_data['Age']:\n",
    "    count = male_data[male_data['Age'] == i][1].values[0]\n",
    "    ax.annotate(f\"{count}\", xy=(count, i), va='center', ha='right', fontweight='light', color='#4a4a4a',\n",
    "                fontsize=10)\n",
    "for i in female_data['Age']:\n",
    "    count = female_data[female_data['Age'] == i][1].values[0]\n",
    "    ax.annotate(f\"{count}\", xy=(-count, i), va='center', ha='left', fontweight='light', color='#4a4a4a',\n",
    "                fontsize=10)\n",
    "\n",
    "# Remove unnecessary axes and add titles\n",
    "ax.spines['top'].set_visible(False)\n",
    "ax.spines['right'].set_visible(False)\n",
    "ax.spines['left'].set_visible(False)\n",
    "ax.spines['bottom'].set_visible(False)\n",
    "ax.set_xticks([])\n",
    "ax.legend().set_visible(False)\n",
    "fig.text(0.16, 0.95, 'Heart Disease Distribution by Age and Sex',\n",
    "         fontsize=15, fontweight='bold', fontfamily='serif')\n",
    "fig.text(0.16, 0.90, 'Comparing the number of cases with heart disease across different age groups',\n",
    "         fontsize=12, fontweight='light', fontfamily='serif')\n",
    "fig.text(0.5, 0.85, \"Male: Heart attacks\", fontweight=\"bold\",\n",
    "         fontfamily='serif', fontsize=12, color='#1f77b4')\n",
    "fig.text(0.3, 0.85, \"Female: Heart attacks\", fontweight=\"bold\",\n",
    "         fontfamily='serif', fontsize=12, color='#ff7f0e')\n",
    "\n",
    "plt.show()"
   ]
  },
  {
   "cell_type": "markdown",
   "id": "ad13c9f0",
   "metadata": {
    "slideshow": {
     "slide_type": "slide"
    }
   },
   "source": [
    "## Visualization: Sleep Hours"
   ]
  },
  {
   "cell_type": "code",
   "execution_count": null,
   "id": "9d9fd6b4",
   "metadata": {
    "hideCode": true,
    "slideshow": {
     "slide_type": "slide"
    }
   },
   "outputs": [],
   "source": [
    "# Grouping data by 'Sleep' and calculating the proportion of 'HeartDisease: True'\n",
    "sleep_hours_grouped = df.groupby('Sleep')['HeartDisease'].value_counts(normalize=True).unstack()\n",
    "\n",
    "# Calculating the proportion of 'HeartDisease: True' for each sleep hour\n",
    "sleep_hours_proportion_true = sleep_hours_grouped[1]\n",
    "\n",
    "sleep_hours_proportion_true\n",
    "# Grouping data by 'Sleep' and calculating the proportion of 'HeartDisease: True'\n",
    "sleep_hours_grouped = df.groupby('Sleep')['HeartDisease'].value_counts(normalize=True).unstack()\n",
    "\n",
    "\n",
    "# Setting a more visually appealing style\n",
    "sns.set(style=\"whitegrid\")\n",
    "\n",
    "# Enhancing the aesthetics of the bar chart\n",
    "\n",
    "# Creating the plot\n",
    "fig, ax = plt.subplots(figsize=(14, 8))\n",
    "bars = ax.bar(sleep_hours_proportion_true.index, sleep_hours_proportion_true.values,\n",
    "              color=sns.color_palette(\"twilight\", len(sleep_hours_proportion_true)))\n",
    "\n",
    "# Adding data labels\n",
    "for bar in bars:\n",
    "    height = bar.get_height()\n",
    "    ax.annotate(f'{height:.2f}',\n",
    "                xy=(bar.get_x() + bar.get_width() / 2, height),\n",
    "                xytext=(0, 3),  # 3 points vertical offset\n",
    "                textcoords=\"offset points\",\n",
    "                ha='center', va='bottom')\n",
    "\n",
    "# Adjusting the grid and background\n",
    "ax.set_facecolor('white')\n",
    "ax.grid(color='grey', linestyle='-', linewidth=0.25, axis='y')\n",
    "\n",
    "# Setting title and labels with customized font\n",
    "ax.set_title('Proportion of Heart Disease Cases by Sleep Hours', fontsize=16, fontweight='bold', pad=20)\n",
    "ax.set_xlabel('Sleep Hours', fontsize=12, fontweight='bold')\n",
    "ax.set_ylabel('Proportion of Heart Disease', fontsize=12, fontweight='bold')\n",
    "\n",
    "# Customizing ticks and limits\n",
    "ax.set_xticks(sleep_hours_proportion_true.index)\n",
    "ax.set_xticklabels(sleep_hours_proportion_true.index, rotation=45)\n",
    "ax.set_ylim(0, max(sleep_hours_proportion_true.fillna(0)) + 0.05)  # Adding some space above the highest bar\n",
    "\n",
    "plt.show()"
   ]
  },
  {
   "cell_type": "markdown",
   "id": "41a04358",
   "metadata": {
    "slideshow": {
     "slide_type": "slide"
    }
   },
   "source": [
    "# Explaining Machine Learning Model Predictions"
   ]
  },
  {
   "cell_type": "markdown",
   "id": "617359a2",
   "metadata": {
    "slideshow": {
     "slide_type": "slide"
    }
   },
   "source": [
    "We've seen how heart disease relates to certain features, but the goal of machine learning is to automate such analysis. Let's train an ML model and try to understand how it functions using statistical explanations."
   ]
  },
  {
   "cell_type": "code",
   "execution_count": null,
   "id": "eaa5552c",
   "metadata": {
    "slideshow": {
     "slide_type": "slide"
    }
   },
   "outputs": [],
   "source": [
    "tdf = df.copy().drop('ID', axis=1)\n",
    "tdf = (tdf-tdf.min())/(tdf.max()-tdf.min())\n",
    "tdf = tdf.dropna()\n",
    "X = tdf.copy().drop('HeartDisease', axis=1)\n",
    "y = tdf['HeartDisease'].copy()\n",
    "ntrain = int(len(X)*0.7)\n",
    "train_x = X[:ntrain]\n",
    "train_y = y[:ntrain]\n",
    "test_x = X[ntrain:]\n",
    "test_y = y[ntrain:];"
   ]
  },
  {
   "cell_type": "code",
   "execution_count": null,
   "id": "0206c137",
   "metadata": {
    "slideshow": {
     "slide_type": "slide"
    }
   },
   "outputs": [],
   "source": [
    "print(train_x.shape, train_y.shape)\n",
    "print(test_x.shape, test_y.shape)\n",
    "train_x.describe()"
   ]
  },
  {
   "cell_type": "code",
   "execution_count": null,
   "id": "dc5e2891",
   "metadata": {
    "slideshow": {
     "slide_type": "slide"
    }
   },
   "outputs": [],
   "source": [
    "# train an XGBoost model\n",
    "import xgboost\n",
    "model = xgboost.XGBClassifier().fit(train_x, train_y)\n",
    "print(\"Train accuracy: \", model.score(train_x, train_y))\n",
    "print(\"Test accuracy: \", model.score(test_x, test_y))"
   ]
  },
  {
   "cell_type": "code",
   "execution_count": null,
   "id": "4475a4e5",
   "metadata": {
    "slideshow": {
     "slide_type": "slide"
    }
   },
   "outputs": [],
   "source": [
    "from sklearn.metrics import ConfusionMatrixDisplay\n",
    "sns.reset_orig() \n",
    "disp = ConfusionMatrixDisplay.from_estimator(model, test_x, test_y, normalize='all', cmap='pink')"
   ]
  },
  {
   "cell_type": "code",
   "execution_count": null,
   "id": "c7b4acdf",
   "metadata": {
    "slideshow": {
     "slide_type": "slide"
    }
   },
   "outputs": [],
   "source": [
    "from sklearn.ensemble import RandomForestClassifier\n",
    "model_rf = RandomForestClassifier(max_depth=3, n_estimators=30).fit(train_x, train_y)\n",
    "print(\"Train accuracy: \", model_rf.score(train_x, train_y))\n",
    "print(\"Test accuracy: \", model_rf.score(test_x, test_y))"
   ]
  },
  {
   "cell_type": "code",
   "execution_count": null,
   "id": "4f8a110e",
   "metadata": {
    "slideshow": {
     "slide_type": "slide"
    }
   },
   "outputs": [],
   "source": [
    "sns.reset_orig()\n",
    "disp = ConfusionMatrixDisplay.from_estimator(model_rf, test_x, test_y, normalize='all', cmap='pink')"
   ]
  },
  {
   "cell_type": "markdown",
   "id": "6233eb0f",
   "metadata": {
    "slideshow": {
     "slide_type": "slide"
    }
   },
   "source": [
    "## SHAP\n",
    "\n",
    "**SH**apley **A**dditive ex**P**lanations ([Lundberg et .al 2017](https://arxiv.org/abs/1905.04610))"
   ]
  },
  {
   "cell_type": "markdown",
   "id": "d467078c",
   "metadata": {
    "slideshow": {
     "slide_type": "slide"
    }
   },
   "source": [
    "In game theory, the [Shapley value](https://en.wikipedia.org/wiki/Shapley_value) (1953) is a measure for fairly distributing both gains and costs to several actors working in coalition.\n",
    "\n",
    "The Shapley value applies primarily in situations when the contributions of each actor are unequal, but they work in cooperation with each other to obtain the payoff."
   ]
  },
  {
   "cell_type": "markdown",
   "id": "b2ca70df",
   "metadata": {
    "slideshow": {
     "slide_type": "slide"
    }
   },
   "source": [
    "You first start by identifying each player’s contribution when they play individually, when 2 play together, and when all 3 play together. Their individual contributions could determine how important they are to they whole game, but the Shapley value is more fair. Which player do you think has the highest impact on the total payoff?\n",
    "\n",
    "<p align=\"center\">\n",
    "<img src=https://clearcode.cc/wp-content/uploads/2016/11/ABC-wide.png?ver=1478561348 width=500>\n",
    "</p>"
   ]
  },
  {
   "cell_type": "markdown",
   "id": "bc1c5bad",
   "metadata": {
    "slideshow": {
     "slide_type": "slide"
    }
   },
   "source": [
    "Then, you need to consider all possible orders and calculate their marginal value – e.g. what value does each player add when player A enters the game first, followed by player B, and then player C.\n",
    "Below are the 6 possible orders and the marginal value each player adds in the different combinations:\n",
    "<p align=\"center\">\n",
    "<img src=https://clearcode.cc/wp-content/uploads/2016/11/ABC-updated.png?ver=1479258642 width=500>\n",
    "</p>"
   ]
  },
  {
   "cell_type": "markdown",
   "id": "98f0732f",
   "metadata": {
    "slideshow": {
     "slide_type": "slide"
    }
   },
   "source": [
    "Now that we have calculated each player’s marginal value across all 6 possible order combinations, we now need to add them up and work out the Shapley value (i.e. the average) for each player."
   ]
  },
  {
   "cell_type": "code",
   "execution_count": null,
   "id": "1c519527",
   "metadata": {
    "slideshow": {
     "slide_type": "slide"
    }
   },
   "outputs": [],
   "source": [
    "a = [7, 7, 10, 3, 9, 10]\n",
    "b = [4, 0, 4, 4, 4, 3]\n",
    "c = [8, 12, 5, 12, 6, 6]\n",
    "print(\"Check for sum: \", [a[i]+b[i]+c[i] for i in range(len(a))])\n",
    "print(\"Shapley values:\")\n",
    "print(\"A: \", np.sum(a)/6)\n",
    "print(\"B: \", np.sum(b)/6)\n",
    "print(\"C: \", np.sum(c)/6)"
   ]
  },
  {
   "cell_type": "markdown",
   "id": "b849541c",
   "metadata": {
    "slideshow": {
     "slide_type": "slide"
    }
   },
   "source": [
    "Computing the Shapley value for each player will give the true contribution each player made to the game and assign credit fairly. In this case, player C has a higher contribution, even though their contribution when playing individually is smaller."
   ]
  },
  {
   "cell_type": "markdown",
   "id": "f4d60fd0",
   "metadata": {
    "slideshow": {
     "slide_type": "slide"
    }
   },
   "source": [
    "### SHAP for Explainability\n",
    "\n",
    "To use SHAP for machine learning models, we will consider the features of our datas as players in the cooperative game of prediction. Each value of an independent variable or a feature for a given sample is a part of a cooperative game where we assume that prediction is actually the payout. Shapley values correspond to the contribution of each feature towards pushing the prediction away from the expected value."
   ]
  },
  {
   "cell_type": "code",
   "execution_count": null,
   "id": "8337b807",
   "metadata": {
    "slideshow": {
     "slide_type": "slide"
    }
   },
   "outputs": [],
   "source": [
    "import shap\n",
    "\n",
    "# explain the model's predictions using SHAP\n",
    "explainer = shap.Explainer(model)\n",
    "shap_values = explainer(train_x)"
   ]
  },
  {
   "cell_type": "code",
   "execution_count": null,
   "id": "cf9ac1a2",
   "metadata": {
    "slideshow": {
     "slide_type": "slide"
    }
   },
   "outputs": [],
   "source": [
    "shap_values.shape"
   ]
  },
  {
   "cell_type": "code",
   "execution_count": null,
   "id": "6e89a4f5",
   "metadata": {
    "slideshow": {
     "slide_type": "slide"
    }
   },
   "outputs": [],
   "source": [
    "# visualize the first prediction's explanation\n",
    "shap.plots.waterfall(shap_values[1234, :])"
   ]
  },
  {
   "cell_type": "markdown",
   "id": "8788fd93",
   "metadata": {
    "slideshow": {
     "slide_type": "slide"
    }
   },
   "source": [
    "The Shapley values are calculated for each row. As such, understanding the explanation overall of how the model functions is not very clear. Aggregate methods like beeswarm plots help with understanding the overall behavior of the model."
   ]
  },
  {
   "cell_type": "code",
   "execution_count": null,
   "id": "f01256ac",
   "metadata": {
    "slideshow": {
     "slide_type": "slide"
    }
   },
   "outputs": [],
   "source": [
    "shap.plots.beeswarm(shap_values)"
   ]
  },
  {
   "cell_type": "code",
   "execution_count": null,
   "id": "6ce1abb8",
   "metadata": {
    "slideshow": {
     "slide_type": "slide"
    }
   },
   "outputs": [],
   "source": [
    "# explain the Random Forest model's predictions using SHAP\n",
    "explainer = shap.Explainer(model_rf)\n",
    "shap_values_rf = explainer(train_x)"
   ]
  },
  {
   "cell_type": "code",
   "execution_count": null,
   "id": "c69ffd62",
   "metadata": {
    "slideshow": {
     "slide_type": "subslide"
    }
   },
   "outputs": [],
   "source": [
    "shap_values_rf.shape"
   ]
  },
  {
   "cell_type": "markdown",
   "id": "c43fb77a",
   "metadata": {
    "slideshow": {
     "slide_type": "slide"
    }
   },
   "source": [
    "A small note: due to how Random Forests output their predictions, the shape of the Shapley values is different. Each explanation is also split based on the label."
   ]
  },
  {
   "cell_type": "code",
   "execution_count": null,
   "id": "c01819b9",
   "metadata": {
    "slideshow": {
     "slide_type": "slide"
    }
   },
   "outputs": [],
   "source": [
    "shap.plots.waterfall(shap_values_rf[1234, :, 0])"
   ]
  },
  {
   "cell_type": "code",
   "execution_count": null,
   "id": "4a6944d3",
   "metadata": {
    "slideshow": {
     "slide_type": "slide"
    }
   },
   "outputs": [],
   "source": [
    "shap.plots.beeswarm(shap_values_rf[:,:,0])"
   ]
  },
  {
   "cell_type": "markdown",
   "id": "ae35d9a5",
   "metadata": {
    "slideshow": {
     "slide_type": "slide"
    }
   },
   "source": [
    "SHAP is a state of the art method and has a great library. It is far from the only explanation method however, there others like [LIME](https://github.com/marcotcr/lime), [PDPs and ICE Plots](https://medium.com/towards-data-science/the-ultimate-guide-to-pdps-and-ice-plots-4182885662aa)."
   ]
  },
  {
   "cell_type": "markdown",
   "id": "9fd72e27",
   "metadata": {
    "slideshow": {
     "slide_type": "slide"
    }
   },
   "source": [
    "# Interpretable Machine Learning"
   ]
  },
  {
   "cell_type": "markdown",
   "id": "64f0361c",
   "metadata": {
    "slideshow": {
     "slide_type": "slide"
    }
   },
   "source": [
    "However, what if we could go beyond explaining? Our model of a gradient boosting algorithm is a black-box, so we can't look inside of it. If we use an interpretable model, we can see how the decision is being made at every step of the model's logic. Decision Trees, the base component of Random Forests, are one such model that is considered interpretable."
   ]
  },
  {
   "cell_type": "code",
   "execution_count": null,
   "id": "d49a6302",
   "metadata": {
    "slideshow": {
     "slide_type": "slide"
    }
   },
   "outputs": [],
   "source": [
    "from sklearn.tree import DecisionTreeClassifier, plot_tree\n",
    "\n",
    "model = DecisionTreeClassifier(max_depth=4).fit(train_x, train_y)\n",
    "print(\"Train accuracy: \", model.score(train_x, train_y))\n",
    "print(\"Test accuracy: \", model.score(test_x, test_y))"
   ]
  },
  {
   "cell_type": "code",
   "execution_count": null,
   "id": "226d59d7",
   "metadata": {
    "slideshow": {
     "slide_type": "slide"
    }
   },
   "outputs": [],
   "source": [
    "from sklearn.metrics import ConfusionMatrixDisplay\n",
    "sns.reset_orig()\n",
    "disp = ConfusionMatrixDisplay.from_estimator(model, test_x, test_y, normalize='all', cmap='pink')"
   ]
  },
  {
   "cell_type": "code",
   "execution_count": null,
   "id": "10f3dfdc",
   "metadata": {
    "slideshow": {
     "slide_type": "slide"
    }
   },
   "outputs": [],
   "source": [
    "import graphviz\n",
    "from sklearn import tree\n",
    "\n",
    "dot_data = tree.export_graphviz(model, feature_names=train_x.columns,\n",
    "                                filled=True, rounded=True, proportion=True,\n",
    "                                precision=1, label='root')\n",
    "graph = graphviz.Source(dot_data)  \n",
    "graph "
   ]
  },
  {
   "cell_type": "markdown",
   "id": "72da6dd9",
   "metadata": {
    "slideshow": {
     "slide_type": "slide"
    }
   },
   "source": [
    "Decision Trees illustrate also why interpretability is a spectrum. The larger the tree is, the harder it is to understand. Increase the max depth and replot the tree. Would you be able to explain this model to a doctor or a patient? Is it interpretable?"
   ]
  },
  {
   "cell_type": "markdown",
   "id": "f7acbbd8",
   "metadata": {
    "slideshow": {
     "slide_type": "slide"
    }
   },
   "source": [
    "### Genetic Programming"
   ]
  },
  {
   "cell_type": "markdown",
   "id": "55c9023a",
   "metadata": {
    "slideshow": {
     "slide_type": "slide"
    }
   },
   "source": [
    "Genetic Programming is a less well-known method for interpretable machine learning. Also known as symbolic regression, genetic programming combines predetermined functions in a representation like a tree, list, or graph. This graph is randomly modified and optimized using an evolutionary algorithm in order to improve model performance. A parameter known as parsimony determines if smaller, but slightly worse, models can be accepted. We will use the [gplearn](https://gplearn.readthedocs.io/) library, which implements tree-based GP in a scikit-learn syntax."
   ]
  },
  {
   "cell_type": "code",
   "execution_count": null,
   "id": "c09c5c34",
   "metadata": {
    "slideshow": {
     "slide_type": "slide"
    }
   },
   "outputs": [],
   "source": [
    "from gplearn.genetic import SymbolicClassifier\n",
    "\n",
    "model_gp = SymbolicClassifier(parsimony_coefficient=0.01,\n",
    "                         feature_names=train_x.columns,\n",
    "                         random_state=1)\n",
    "model_gp.fit(train_x, train_y)\n",
    "print(\"Train accuracy: \", model.score(train_x, train_y))\n",
    "print(\"Test accuracy: \", model.score(test_x, test_y))"
   ]
  },
  {
   "cell_type": "code",
   "execution_count": null,
   "id": "20b6d668",
   "metadata": {
    "slideshow": {
     "slide_type": "slide"
    }
   },
   "outputs": [],
   "source": [
    "disp = ConfusionMatrixDisplay.from_estimator(model_gp, test_x, test_y, normalize='all', cmap='pink')"
   ]
  },
  {
   "cell_type": "code",
   "execution_count": null,
   "id": "74bcde6a",
   "metadata": {
    "slideshow": {
     "slide_type": "slide"
    }
   },
   "outputs": [],
   "source": [
    "dot_data = model_gp._program.export_graphviz()\n",
    "graph = graphviz.Source(dot_data)\n",
    "graph.render('images/ex1_child', format='png', cleanup=True)\n",
    "graph"
   ]
  },
  {
   "cell_type": "code",
   "execution_count": null,
   "id": "be20d74e",
   "metadata": {
    "slideshow": {
     "slide_type": "slide"
    }
   },
   "outputs": [],
   "source": [
    "For now, the SHAP library isn't compatible with gplearn models, however, Shapley values can be determined for GP"
   ]
  }
 ],
 "metadata": {
  "celltoolbar": "Slideshow",
  "kernelspec": {
   "display_name": "Python 3 (ipykernel)",
   "language": "python",
   "name": "python3"
  },
  "language_info": {
   "codemirror_mode": {
    "name": "ipython",
    "version": 3
   },
   "file_extension": ".py",
   "mimetype": "text/x-python",
   "name": "python",
   "nbconvert_exporter": "python",
   "pygments_lexer": "ipython3",
   "version": "3.9.18"
  }
 },
 "nbformat": 4,
 "nbformat_minor": 5
}
